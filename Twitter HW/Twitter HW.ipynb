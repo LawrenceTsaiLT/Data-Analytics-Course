{
 "cells": [
  {
   "cell_type": "code",
   "execution_count": 2,
   "metadata": {},
   "outputs": [],
   "source": [
    "# Dependencies\n",
    "import pandas as pd\n",
    "import tweepy\n",
    "import numpy as np\n",
    "import matplotlib.pyplot as plt\n",
    "\n",
    "# Import and Initialize Sentiment Analyzer\n",
    "from vaderSentiment.vaderSentiment import SentimentIntensityAnalyzer\n",
    "analyzer = SentimentIntensityAnalyzer()\n",
    "\n",
    "# Twitter API Keys\n",
    "from config import (consumer_key,\n",
    "                    consumer_secret,\n",
    "                    access_token,\n",
    "                    access_token_secret)\n",
    "\n",
    "# Setup Tweepy API Authentication\n",
    "auth = tweepy.OAuthHandler(consumer_key, consumer_secret)\n",
    "auth.set_access_token(access_token, access_token_secret)\n",
    "api = tweepy.API(auth, parser=tweepy.parsers.JSONParser())"
   ]
  },
  {
   "cell_type": "code",
   "execution_count": 3,
   "metadata": {},
   "outputs": [],
   "source": [
    "# Target Account\n",
    "target_user = \"@BBC\"\n",
    "\n",
    "# Counter\n",
    "bbc_counter = 1\n",
    "\n",
    "# Variables for holding sentiments\n",
    "bbc_sentiments = []\n",
    "\n",
    "# Variable for max_id\n",
    "oldest_tweet = None\n",
    "\n",
    "# Loop through 5 pages of tweets (total 100 tweets)\n",
    "for x in range(5):\n",
    "\n",
    "    # Get all tweets from home feed\n",
    "    public_tweets = api.user_timeline(target_user, max_id = oldest_tweet)\n",
    "\n",
    "    # Loop through all tweets \n",
    "    for tweet in public_tweets:\n",
    "\n",
    "        # Print Tweets\n",
    "        # print(\"Tweet {counter}: {tweet[\"text\"]})\n",
    "        \n",
    "        # Run Vader Analysis on each tweet\n",
    "        bbc_results = analyzer.polarity_scores(tweet[\"text\"])\n",
    "        bbc_compound = bbc_results[\"compound\"]\n",
    "        bbc_pos = bbc_results[\"pos\"]\n",
    "        bbc_neu = bbc_results[\"neu\"]\n",
    "        bbc_neg = bbc_results[\"neg\"]\n",
    "        \n",
    "        # Get Tweet ID, subtract 1, and assign to oldest_tweet\n",
    "        oldest_tweet = tweet['id'] - 1\n",
    "        \n",
    "        # Add sentiments for each tweet into a list\n",
    "        bbc_sentiments.append({\"Compound\": bbc_compound,\n",
    "                           \"Positive\": bbc_pos,\n",
    "                           \"Negative\": bbc_neu,\n",
    "                           \"Neutral\": bbc_neg,\n",
    "                           \"Tweets Ago\": bbc_counter})\n",
    "        \n",
    "        # Add to counter \n",
    "        bbc_counter += 1"
   ]
  },
  {
   "cell_type": "code",
   "execution_count": 4,
   "metadata": {},
   "outputs": [],
   "source": [
    "# Print the Averages\n",
    "bbc_sentiments= pd.DataFrame.from_dict(bbc_sentiments)\n",
    "bbc_sentiments.head()\n",
    "bbc_sentiments.to_csv('bbc.csv')"
   ]
  },
  {
   "cell_type": "code",
   "execution_count": 5,
   "metadata": {},
   "outputs": [],
   "source": [
    "# Target Account\n",
    "target_user = \"@CBS\"\n",
    "\n",
    "# Counter\n",
    "cbs_counter = 1\n",
    "\n",
    "# Variables for holding sentiments\n",
    "cbs_sentiments = []\n",
    "\n",
    "# Variable for max_id\n",
    "oldest_tweet = None\n",
    "\n",
    "# Loop through 5 pages of tweets (total 100 tweets)\n",
    "for x in range(5):\n",
    "\n",
    "    # Get all tweets from home feed\n",
    "    cbs_public_tweets = api.user_timeline(target_user, max_id = oldest_tweet)\n",
    "\n",
    "    # Loop through all tweets \n",
    "    for tweet in cbs_public_tweets:\n",
    "\n",
    "        \n",
    "        # Run Vader Analysis on each tweet\n",
    "        cbs_results = analyzer.polarity_scores(tweet[\"text\"])\n",
    "        cbs_compound = cbs_results[\"compound\"]\n",
    "        cbs_pos = cbs_results[\"pos\"]\n",
    "        cbs_neu = cbs_results[\"neu\"]\n",
    "        cbs_neg = cbs_results[\"neg\"]\n",
    "        \n",
    "        # Get Tweet ID, subtract 1, and assign to oldest_tweet\n",
    "        oldest_tweet = tweet['id'] - 1\n",
    "        \n",
    "        # Add sentiments for each tweet into a list\n",
    "        cbs_sentiments.append({\"Compound\": cbs_compound,\n",
    "                           \"Positive\": cbs_pos,\n",
    "                           \"Negative\": cbs_neu,\n",
    "                           \"Neutral\": cbs_neg,\n",
    "                           \"Tweets Ago\": cbs_counter})\n",
    "        \n",
    "        # Add to counter \n",
    "        cbs_counter += 1"
   ]
  },
  {
   "cell_type": "code",
   "execution_count": 6,
   "metadata": {},
   "outputs": [],
   "source": [
    "cbs_sentiments= pd.DataFrame.from_dict(cbs_sentiments)\n",
    "cbs_sentiments.head()\n",
    "cbs_sentiments.to_csv('cbs.csv')"
   ]
  },
  {
   "cell_type": "code",
   "execution_count": 7,
   "metadata": {},
   "outputs": [],
   "source": [
    "# Target Account\n",
    "target_user = \"@CNN\"\n",
    "\n",
    "# Counter\n",
    "cnn_counter = 1\n",
    "\n",
    "# Variables for holding sentiments\n",
    "cnn_sentiments = []\n",
    "\n",
    "# Variable for max_id\n",
    "oldest_tweet = None\n",
    "\n",
    "# Loop through 5 pages of tweets (total 100 tweets)\n",
    "for x in range(5):\n",
    "\n",
    "    # Get all tweets from home feed\n",
    "    public_tweets = api.user_timeline(target_user, max_id = oldest_tweet)\n",
    "\n",
    "    # Loop through all tweets \n",
    "    for tweet in public_tweets:\n",
    "\n",
    "        \n",
    "        # Run Vader Analysis on each tweet\n",
    "        cnn_results = analyzer.polarity_scores(tweet[\"text\"])\n",
    "        cnn_compound = cnn_results[\"compound\"]\n",
    "        cnn_pos = cnn_results[\"pos\"]\n",
    "        cnn_neu = cnn_results[\"neu\"]\n",
    "        cnn_neg = cnn_results[\"neg\"]\n",
    "        \n",
    "        # Get Tweet ID, subtract 1, and assign to oldest_tweet\n",
    "        oldest_tweet = tweet['id'] - 1\n",
    "        \n",
    "        # Add sentiments for each tweet into a list\n",
    "        cnn_sentiments.append({\"Compound\": cnn_compound,\n",
    "                           \"Positive\": cnn_pos,\n",
    "                           \"Negative\": cnn_neu,\n",
    "                           \"Neutral\": cnn_neg,\n",
    "                           \"Tweets Ago\": cnn_counter})\n",
    "        \n",
    "        # Add to counter \n",
    "        cnn_counter += 1"
   ]
  },
  {
   "cell_type": "code",
   "execution_count": 8,
   "metadata": {},
   "outputs": [],
   "source": [
    "cnn_sentiments= pd.DataFrame.from_dict(cnn_sentiments)\n",
    "cnn_sentiments.head()\n",
    "cnn_sentiments.to_csv('cnn.csv')"
   ]
  },
  {
   "cell_type": "code",
   "execution_count": 9,
   "metadata": {},
   "outputs": [],
   "source": [
    "# Target Account\n",
    "target_user = \"@FoxNews\"\n",
    "\n",
    "# Counter\n",
    "fox_counter = 1\n",
    "\n",
    "# Variables for holding sentiments\n",
    "fox_sentiments = []\n",
    "\n",
    "# Variable for max_id\n",
    "oldest_tweet = None\n",
    "\n",
    "# Loop through 5 pages of tweets (total 100 tweets)\n",
    "for x in range(5):\n",
    "\n",
    "    # Get all tweets from home feed\n",
    "    public_tweets = api.user_timeline(target_user, max_id = oldest_tweet)\n",
    "\n",
    "    # Loop through all tweets \n",
    "    for tweet in public_tweets:\n",
    "\n",
    "        \n",
    "        # Run Vader Analysis on each tweet\n",
    "        fox_results = analyzer.polarity_scores(tweet[\"text\"])\n",
    "        fox_compound = fox_results[\"compound\"]\n",
    "        fox_pos = fox_results[\"pos\"]\n",
    "        fox_neu = fox_results[\"neu\"]\n",
    "        fox_neg = fox_results[\"neg\"]\n",
    "        \n",
    "        # Get Tweet ID, subtract 1, and assign to oldest_tweet\n",
    "        oldest_tweet = tweet['id'] - 1\n",
    "        \n",
    "        # Add sentiments for each tweet into a list\n",
    "        fox_sentiments.append({\"Compound\": fox_compound,\n",
    "                           \"Positive\": fox_pos,\n",
    "                           \"Negative\": fox_neu,\n",
    "                           \"Neutral\": fox_neg,\n",
    "                           \"Tweets Ago\": fox_counter})\n",
    "        \n",
    "        # Add to counter \n",
    "        fox_counter += 1"
   ]
  },
  {
   "cell_type": "code",
   "execution_count": 10,
   "metadata": {},
   "outputs": [],
   "source": [
    "fox_sentiments= pd.DataFrame.from_dict(fox_sentiments)\n",
    "fox_sentiments.head()\n",
    "fox_sentiments.to_csv('fox.csv')"
   ]
  },
  {
   "cell_type": "code",
   "execution_count": 11,
   "metadata": {},
   "outputs": [],
   "source": [
    "# Target Account\n",
    "target_user = \"@nytimes\"\n",
    "\n",
    "# Counter\n",
    "nyt_counter = 1\n",
    "\n",
    "# Variables for holding sentiments\n",
    "nyt_sentiments = []\n",
    "\n",
    "# Variable for max_id\n",
    "oldest_tweet = None\n",
    "\n",
    "# Loop through 5 pages of tweets (total 100 tweets)\n",
    "for x in range(5):\n",
    "\n",
    "    # Get all tweets from home feed\n",
    "    public_tweets = api.user_timeline(target_user, max_id = oldest_tweet)\n",
    "\n",
    "    # Loop through all tweets \n",
    "    for tweet in public_tweets:\n",
    "\n",
    "        \n",
    "        # Run Vader Analysis on each tweet\n",
    "        nyt_results = analyzer.polarity_scores(tweet[\"text\"])\n",
    "        nyt_compound = nyt_results[\"compound\"]\n",
    "        nyt_pos = nyt_results[\"pos\"]\n",
    "        nyt_neu = nyt_results[\"neu\"]\n",
    "        nyt_neg = nyt_results[\"neg\"]\n",
    "        \n",
    "        # Get Tweet ID, subtract 1, and assign to oldest_tweet\n",
    "        oldest_tweet = tweet['id'] - 1\n",
    "        \n",
    "        # Add sentiments for each tweet into a list\n",
    "        nyt_sentiments.append({\"Compound\": nyt_compound,\n",
    "                           \"Positive\": nyt_pos,\n",
    "                           \"Negative\": nyt_neu,\n",
    "                           \"Neutral\": nyt_neg,\n",
    "                           \"Tweets Ago\": nyt_counter})\n",
    "        \n",
    "        # Add to counter \n",
    "        nyt_counter += 1"
   ]
  },
  {
   "cell_type": "code",
   "execution_count": 12,
   "metadata": {},
   "outputs": [],
   "source": [
    "nyt_sentiments= pd.DataFrame.from_dict(nyt_sentiments)\n",
    "nyt_sentiments.head()\n",
    "nyt_sentiments.to_csv('nyt.csv')"
   ]
  },
  {
   "cell_type": "code",
   "execution_count": 20,
   "metadata": {},
   "outputs": [
    {
     "data": {
      "image/png": "[encoded data removed]",
      "text/plain": [
       "<matplotlib.figure.Figure at 0x10a0c4da0>"
      ]
     },
     "metadata": {},
     "output_type": "display_data"
    }
   ],
   "source": [
    "plt.scatter(bbc_sentiments['Tweets Ago'], bbc_sentiments['Compound'], color = 'lightblue', edgecolor = 'black', label = 'BBC', alpha = .75)\n",
    "plt.scatter(cbs_sentiments['Tweets Ago'], cbs_sentiments['Compound'], color = 'green', edgecolor = 'black', label = 'CBS', alpha = .75)\n",
    "plt.scatter(cnn_sentiments['Tweets Ago'], cnn_sentiments['Compound'], color = 'red', edgecolor = 'black', label = 'CNN', alpha = .75)\n",
    "plt.scatter(fox_sentiments['Tweets Ago'], fox_sentiments['Compound'], color = 'blue', edgecolor = 'black', label = 'Fox', alpha = .75)\n",
    "plt.scatter(nyt_sentiments['Tweets Ago'], nyt_sentiments['Compound'], color = 'yellow', edgecolor = 'black', label = 'New York Times', alpha = .75)\n",
    "\n",
    "plt.title('Sentiment Analysis of Media Tweets (7/29/18)')\n",
    "plt.xlabel('Tweets Ago')\n",
    "plt.ylabel('Tweets Polarity')\n",
    "plt.grid()\n",
    "plt.legend(loc='upper left', bbox_to_anchor=(1, 1))\n",
    "\n",
    "lgd = plt.legend(loc='upper left', bbox_to_anchor=(1, 1))\n",
    "plt.savefig('Sentiment Scatter Plot', bbox_extra_artists=(lgd,), bbox_inches=\"tight\")"
   ]
  },
  {
   "cell_type": "code",
   "execution_count": 21,
   "metadata": {},
   "outputs": [],
   "source": [
    "#mean of twitter compound\n",
    "bbc_overall_compound=np.mean(bbc_sentiments['Compound'])\n",
    "cbs_overall_compound=np.mean(cbs_sentiments['Compound'])\n",
    "cnn_overall_compound=np.mean(cnn_sentiments['Compound'])\n",
    "fox_overall_compound=np.mean(fox_sentiments['Compound'])\n",
    "nyt_overall_compound=np.mean(nyt_sentiments['Compound'])\n"
   ]
  },
  {
   "cell_type": "code",
   "execution_count": 22,
   "metadata": {},
   "outputs": [
    {
     "data": {
      "image/png": "[encoded data removed]",
      "text/plain": [
       "<matplotlib.figure.Figure at 0x112d5b5f8>"
      ]
     },
     "metadata": {},
     "output_type": "display_data"
    }
   ],
   "source": [
    "plt.bar('BBC', bbc_overall_compound,color='lightblue',width=1.0,label='BBC')\n",
    "plt.bar('CBS', cbs_overall_compound,color='green',width=1.0,label='CBS')\n",
    "plt.bar('CNN', cnn_overall_compound,color='red',width=1.0,label='CNN')\n",
    "plt.bar('Fox', fox_overall_compound,color='blue',width=1.0,label='Fox')\n",
    "plt.bar('New York Times', nyt_overall_compound,color='yellow',width=1.0,label='New York Times')\n",
    "\n",
    "plt.title('Overall Media Sentiment based on Twitter (7/29/18)')\n",
    "plt.ylabel('Tweets Polarity')\n",
    "plt.show\n",
    "plt.savefig('Overall Sentiment')"
   ]
  }
 ],
 "metadata": {
  "kernelspec": {
   "display_name": "Python 3",
   "language": "python",
   "name": "python3"
  },
  "language_info": {
   "codemirror_mode": {
    "name": "ipython",
    "version": 3
   },
   "file_extension": ".py",
   "mimetype": "text/x-python",
   "name": "python",
   "nbconvert_exporter": "python",
   "pygments_lexer": "ipython3",
   "version": "3.6.4"
  },
  "varInspector": {
   "cols": {
    "lenName": 16,
    "lenType": 16,
    "lenVar": 40
   },
   "kernels_config": {
    "python": {
     "delete_cmd_postfix": "",
     "delete_cmd_prefix": "del ",
     "library": "var_list.py",
     "varRefreshCmd": "print(var_dic_list())"
    },
    "r": {
     "delete_cmd_postfix": ") ",
     "delete_cmd_prefix": "rm(",
     "library": "var_list.r",
     "varRefreshCmd": "cat(var_dic_list()) "
    }
   },
   "types_to_exclude": [
    "module",
    "function",
    "builtin_function_or_method",
    "instance",
    "_Feature"
   ],
   "window_display": false
  }
 },
 "nbformat": 4,
 "nbformat_minor": 2
}
